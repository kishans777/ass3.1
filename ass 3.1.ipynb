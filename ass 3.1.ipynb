{
 "cells": [
  {
   "cell_type": "markdown",
   "id": "3e5b4bce-6375-477d-8f3c-3165f8b4384e",
   "metadata": {},
   "source": [
    "Q1. Which keyword is used to create a function? Create a function to return a list of odd numbers in the range of 1 to 25."
   ]
  },
  {
   "cell_type": "code",
   "execution_count": 1,
   "id": "39e18c9c-f5bd-44ce-9fbc-c214eea384b4",
   "metadata": {},
   "outputs": [],
   "source": [
    "\"\"\" def keyword is used to create a function  \"\"\"\n",
    "def get_odd_numbers():\n",
    "    odd_numbers = []\n",
    "    for num in range(1, 26):\n",
    "        if num % 2 != 0:\n",
    "            odd_numbers.append(num)\n",
    "    return odd_numbers\n"
   ]
  },
  {
   "cell_type": "code",
   "execution_count": 2,
   "id": "b21b2f1c-1305-4bf7-9994-5803e7d43c99",
   "metadata": {},
   "outputs": [
    {
     "name": "stdout",
     "output_type": "stream",
     "text": [
      "[1, 3, 5, 7, 9, 11, 13, 15, 17, 19, 21, 23, 25]\n"
     ]
    }
   ],
   "source": [
    "odd_numbers_list = get_odd_numbers()\n",
    "print(odd_numbers_list)"
   ]
  },
  {
   "cell_type": "markdown",
   "id": "2ef1a647-d718-4ab7-9acb-73510e96d6c5",
   "metadata": {},
   "source": [
    "##Q2. Why *args and **kwargs is used in some functions? Create a function each for *args and **kwargs to demonstrate their use.##"
   ]
  },
  {
   "cell_type": "code",
   "execution_count": 3,
   "id": "20b9407d-e3f7-4b68-a9f9-7eee2e385d40",
   "metadata": {},
   "outputs": [
    {
     "data": {
      "text/plain": [
       "(3, 5, 24, 'kisahn', 'rohit')"
      ]
     },
     "execution_count": 3,
     "metadata": {},
     "output_type": "execute_result"
    }
   ],
   "source": [
    "\"\"\" args are generally use to take a multiple input at a run time for example it is not neccesary to use args we also use other namein the place of args\"\"\"\n",
    "\n",
    "def fun(*args):\n",
    "    return args\n",
    "fun(3,5,24,\"kisahn\",\"rohit\")"
   ]
  },
  {
   "cell_type": "code",
   "execution_count": 5,
   "id": "fd7a43aa-2c07-4c15-bb62-b65258878ecd",
   "metadata": {},
   "outputs": [
    {
     "data": {
      "text/plain": [
       "{'a': [3, 4, 5], 'b': [5, 7, 4]}"
      ]
     },
     "execution_count": 5,
     "metadata": {},
     "output_type": "execute_result"
    }
   ],
   "source": [
    "\"\"\" kwargs is a term which is used to create a multi value like dicnaroy\"\"\"\n",
    "\n",
    "def fun3(**kwargs):\n",
    "    return kwargs\n",
    "fun3(a=[3,4,5],b=[5,7,4])"
   ]
  },
  {
   "cell_type": "markdown",
   "id": "9f5f9869-27ff-4476-bdab-6af71815c9b2",
   "metadata": {},
   "source": [
    "Q3. What is an iterator in python? Name the method used to initialise the iterator object and the method used for iteration. Use these methods to print the first five elements of the given list [2, 4, 6, 8, 10, 12, 14, 16, 18, 20]"
   ]
  },
  {
   "cell_type": "code",
   "execution_count": 7,
   "id": "fe38264c-63ed-4ca4-ab5a-9439d77a017a",
   "metadata": {},
   "outputs": [
    {
     "data": {
      "text/plain": [
       "'iterator in python means such types of value in which we go to the next of the next value.\\n constructor is a method \\n    for example \\n    my_list = [1, 2, 3, 4, 5]\\n    my_iterator = iter(my_list)\\n    \\n    use this method to print the first five elements of the given list [2, 4, 6, 8, 10, 12, 14, 16, 18, 20] are'"
      ]
     },
     "execution_count": 7,
     "metadata": {},
     "output_type": "execute_result"
    }
   ],
   "source": [
    "\"\"\"iterator in python means such types of value in which we go to the next of the next value.\n",
    " constructor is a method \n",
    "    for example \n",
    "    my_list = [1, 2, 3, 4, 5]\n",
    "    my_iterator = iter(my_list)\n",
    "    \n",
    "    use this method to print the first five elements of the given list [2, 4, 6, 8, 10, 12, 14, 16, 18, 20] are\"\"\"\n",
    "   "
   ]
  },
  {
   "cell_type": "code",
   "execution_count": 8,
   "id": "261633c8-7302-4684-a8a9-e3570903290c",
   "metadata": {},
   "outputs": [
    {
     "name": "stdout",
     "output_type": "stream",
     "text": [
      "2\n",
      "4\n",
      "6\n",
      "8\n",
      "10\n"
     ]
    }
   ],
   "source": [
    "my_list = [2, 4, 6, 8, 10, 12, 14, 16, 18, 20]\n",
    "my_iterator = iter(my_list)\n",
    "\n",
    "for i in range(5):\n",
    "    print(next(my_iterator))"
   ]
  },
  {
   "cell_type": "markdown",
   "id": "fc539599-d36a-4abe-b7f3-f52c33826fe6",
   "metadata": {},
   "source": [
    "Q4. What is a generator function in python? Why yield keyword is used? Give an example of a generator function"
   ]
  },
  {
   "cell_type": "code",
   "execution_count": 9,
   "id": "73e77f07-1406-425c-b26f-55e72c35f66b",
   "metadata": {},
   "outputs": [],
   "source": [
    "# yield is a genrator function in python#\n",
    "#yield keyword is used as a return like a value#\n",
    "def fib(n):\n",
    "    x,y=0,1\n",
    "    for i in range(n):\n",
    "        yield(x)           #here yield is a return type like #\n",
    "        x,y=y,x+y"
   ]
  },
  {
   "cell_type": "code",
   "execution_count": 10,
   "id": "ec01c65c-cd46-49c6-835a-ff62bfd352d0",
   "metadata": {},
   "outputs": [
    {
     "data": {
      "text/plain": [
       "<generator object fib at 0x7f71f8528f20>"
      ]
     },
     "execution_count": 10,
     "metadata": {},
     "output_type": "execute_result"
    }
   ],
   "source": [
    "fib(7)"
   ]
  },
  {
   "cell_type": "code",
   "execution_count": 11,
   "id": "4c33dbf2-d92f-4cee-816e-97576def58a9",
   "metadata": {},
   "outputs": [
    {
     "name": "stdout",
     "output_type": "stream",
     "text": [
      "0\n",
      "1\n",
      "1\n",
      "2\n",
      "3\n",
      "5\n",
      "8\n"
     ]
    }
   ],
   "source": [
    "for i in fib(7):\n",
    "    print(i)"
   ]
  },
  {
   "cell_type": "markdown",
   "id": "5fff28f3-dfa0-42ab-a29d-ac87b48d44af",
   "metadata": {},
   "source": [
    "Q5. Create a generator function for prime numbers less than 1000. Use the next() method to print the first 20 prime numbers."
   ]
  },
  {
   "cell_type": "code",
   "execution_count": 12,
   "id": "617511dd-fbda-49b1-b183-8c3c675b7a9b",
   "metadata": {},
   "outputs": [],
   "source": [
    " def prime_generator():\n",
    "    primes = []\n",
    "    num = 2\n",
    "    while True:\n",
    "        if all(num % prime != 0 for prime in primes):\n",
    "            primes.append(num)\n",
    "            yield num\n",
    "        num += 1"
   ]
  },
  {
   "cell_type": "code",
   "execution_count": 13,
   "id": "058eaf71-ebdb-4a0d-85aa-9293e2e5271c",
   "metadata": {},
   "outputs": [
    {
     "name": "stdout",
     "output_type": "stream",
     "text": [
      "2\n",
      "3\n",
      "5\n",
      "7\n",
      "11\n",
      "13\n",
      "17\n",
      "19\n",
      "23\n",
      "29\n",
      "31\n",
      "37\n",
      "41\n",
      "43\n",
      "47\n",
      "53\n",
      "59\n",
      "61\n",
      "67\n",
      "71\n"
     ]
    }
   ],
   "source": [
    "prime_gen = prime_generator()\n",
    "\n",
    "for _ in range(20):\n",
    "    prime = next(prime_gen)\n",
    "    print(prime)"
   ]
  },
  {
   "cell_type": "markdown",
   "id": "d1bf8afd-3f18-4809-91e4-ede16ebbc2b0",
   "metadata": {},
   "source": [
    "Q6. Write a python program to print the first 10 Fibonacci numbers using a while loop."
   ]
  },
  {
   "cell_type": "code",
   "execution_count": 14,
   "id": "82319607-e723-4a57-b26d-0f2dd04c410b",
   "metadata": {},
   "outputs": [],
   "source": [
    "def fibo_sequence(n):\n",
    "    sequence = []\n",
    "    a, b = 0, 1\n",
    "    count = 0\n",
    "\n",
    "    while count < n:\n",
    "        sequence.append(a)\n",
    "        a, b = b, a + b\n",
    "        count += 1\n",
    "\n",
    "    return sequence"
   ]
  },
  {
   "cell_type": "code",
   "execution_count": 15,
   "id": "8e45b165-9d6c-4982-8281-fea5fbb08041",
   "metadata": {},
   "outputs": [
    {
     "name": "stdout",
     "output_type": "stream",
     "text": [
      "0\n",
      "1\n",
      "1\n",
      "2\n",
      "3\n",
      "5\n",
      "8\n",
      "13\n",
      "21\n",
      "34\n"
     ]
    }
   ],
   "source": [
    "\n",
    "for num in fibo_sequence(10):\n",
    "    print(num)"
   ]
  },
  {
   "cell_type": "markdown",
   "id": "558095c1-3a62-4c2b-ad8d-461b131d153f",
   "metadata": {},
   "source": [
    "Q7. Write a List Comprehension to iterate through the given string: ‘pwskills’. Expected output: ['p', 'w', 's', 'k', 'i', 'l', 'l', 's']."
   ]
  },
  {
   "cell_type": "code",
   "execution_count": 16,
   "id": "b3478557-94d7-4bd4-a2bd-68599c6bac3c",
   "metadata": {},
   "outputs": [],
   "source": [
    "s=\"pwskills\""
   ]
  },
  {
   "cell_type": "code",
   "execution_count": 17,
   "id": "30b6db06-f68f-483f-9666-5076f9ba0878",
   "metadata": {},
   "outputs": [
    {
     "data": {
      "text/plain": [
       "['P', 'W', 'S', 'K', 'I', 'L', 'L', 'S']"
      ]
     },
     "execution_count": 17,
     "metadata": {},
     "output_type": "execute_result"
    }
   ],
   "source": [
    "list(map(lambda s:s.upper(),s))"
   ]
  },
  {
   "cell_type": "markdown",
   "id": "a69a26a6-551a-41f3-bcf0-6f35e0db57b3",
   "metadata": {},
   "source": [
    "Q8. Write a python program to check whether a given number is Palindrome or not using a while loop."
   ]
  },
  {
   "cell_type": "code",
   "execution_count": 18,
   "id": "b01a855e-c088-4ba6-afd0-1acaa1c93f89",
   "metadata": {},
   "outputs": [
    {
     "name": "stdin",
     "output_type": "stream",
     "text": [
      "Enter a number:  136\n"
     ]
    },
    {
     "name": "stdout",
     "output_type": "stream",
     "text": [
      "136 is not a palindrome\n"
     ]
    }
   ],
   "source": [
    "def is_palindrome(number):\n",
    "    temp = number\n",
    "    reverse = 0\n",
    "\n",
    "    while temp > 0:\n",
    "        # Extract the last digit\n",
    "        digit = temp % 10\n",
    "        # Append the digit to reverse\n",
    "        reverse = reverse * 10 + digit\n",
    "        # Remove the last digit from temp\n",
    "        temp = temp // 10\n",
    "\n",
    "    # Check if the number and its reverse are equal\n",
    "    if number == reverse:\n",
    "        return True\n",
    "    else:\n",
    "        return False\n",
    "\n",
    "\n",
    "# Usage example\n",
    "num = int(input(\"Enter a number: \"))\n",
    "\n",
    "if is_palindrome(num):\n",
    "    print(num, \"is a palindrome\")\n",
    "else:\n",
    "    print(num, \"is not a palindrome\")"
   ]
  },
  {
   "cell_type": "markdown",
   "id": "0cb27d45-bf30-4d5b-b94a-2cc036b15cca",
   "metadata": {},
   "source": [
    "Q9. Write a code to print odd numbers from 1 to 100 using list comprehension."
   ]
  },
  {
   "cell_type": "code",
   "execution_count": 19,
   "id": "0b199053-2575-470a-bbe2-0d0d218c3afa",
   "metadata": {},
   "outputs": [
    {
     "name": "stdout",
     "output_type": "stream",
     "text": [
      "1\n",
      "3\n",
      "5\n",
      "7\n",
      "9\n",
      "11\n",
      "13\n",
      "15\n",
      "17\n",
      "19\n",
      "21\n",
      "23\n",
      "25\n",
      "27\n",
      "29\n",
      "31\n",
      "33\n",
      "35\n",
      "37\n",
      "39\n",
      "41\n",
      "43\n",
      "45\n",
      "47\n",
      "49\n",
      "51\n",
      "53\n",
      "55\n",
      "57\n",
      "59\n",
      "61\n",
      "63\n",
      "65\n",
      "67\n",
      "69\n",
      "71\n",
      "73\n",
      "75\n",
      "77\n",
      "79\n",
      "81\n",
      "83\n",
      "85\n",
      "87\n",
      "89\n",
      "91\n",
      "93\n",
      "95\n",
      "97\n",
      "99\n"
     ]
    }
   ],
   "source": [
    "odd_numbers = [num for num in range(1, 101) if num % 2 != 0]\n",
    "\n",
    "\n",
    "for num in odd_numbers:\n",
    "    print(num)"
   ]
  },
  {
   "cell_type": "code",
   "execution_count": null,
   "id": "dd820097-c9c7-43dd-be78-7ee5c61e0da9",
   "metadata": {},
   "outputs": [],
   "source": []
  }
 ],
 "metadata": {
  "kernelspec": {
   "display_name": "Python 3 (ipykernel)",
   "language": "python",
   "name": "python3"
  },
  "language_info": {
   "codemirror_mode": {
    "name": "ipython",
    "version": 3
   },
   "file_extension": ".py",
   "mimetype": "text/x-python",
   "name": "python",
   "nbconvert_exporter": "python",
   "pygments_lexer": "ipython3",
   "version": "3.10.8"
  }
 },
 "nbformat": 4,
 "nbformat_minor": 5
}
